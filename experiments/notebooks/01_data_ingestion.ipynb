{
 "cells": [
  {
   "cell_type": "markdown",
   "id": "3cb57f63",
   "metadata": {},
   "source": [
    "# Data Ingestion"
   ]
  },
  {
   "cell_type": "code",
   "execution_count": 1,
   "id": "d0692cf2",
   "metadata": {},
   "outputs": [
    {
     "name": "stderr",
     "output_type": "stream",
     "text": [
      "\u001b[32m2025-09-15 17:04:55.858\u001b[0m | \u001b[1mINFO    \u001b[0m | \u001b[36m__main__\u001b[0m:\u001b[36m<module>\u001b[0m:\u001b[36m18\u001b[0m - \u001b[1mProject root: /Users/gf/shell/projects/beccalossi-mk2\u001b[0m\n",
      "\u001b[32m2025-09-15 17:04:55.858\u001b[0m | \u001b[1mINFO    \u001b[0m | \u001b[36m__main__\u001b[0m:\u001b[36m<module>\u001b[0m:\u001b[36m19\u001b[0m - \u001b[1mData directory: /Users/gf/shell/projects/beccalossi-mk2/datasets\u001b[0m\n",
      "\u001b[32m2025-09-15 17:04:55.858\u001b[0m | \u001b[1mINFO    \u001b[0m | \u001b[36m__main__\u001b[0m:\u001b[36m<module>\u001b[0m:\u001b[36m20\u001b[0m - \u001b[1mCommon data directory: /Users/gf/shell/projects/beccalossi-mk2/datasets/fbref_data\u001b[0m\n"
     ]
    }
   ],
   "source": [
    "import csv\n",
    "import re\n",
    "import requests\n",
    "import sys, getopt\n",
    "\n",
    "from bs4 import BeautifulSoup\n",
    "from IPython.display import display, Markdown\n",
    "from loguru import logger\n",
    "import numpy as np\n",
    "import pandas as pd\n",
    "from pathlib import Path\n",
    "\n",
    "# ===== Defining the data directories ====#\n",
    "PROJECT_ROOT = Path().absolute().parent.parent\n",
    "DATA_DIR = PROJECT_ROOT / \"datasets\" \n",
    "FBREF_DATA_DIR = DATA_DIR / \"fbref_data\"\n",
    "\n",
    "logger.info(f\"Project root: {PROJECT_ROOT}\")\n",
    "logger.info(f\"Data directory: {DATA_DIR}\")\n",
    "logger.info(f\"Common data directory: {FBREF_DATA_DIR}\")\n"
   ]
  },
  {
   "cell_type": "code",
   "execution_count": 2,
   "id": "b7512689",
   "metadata": {},
   "outputs": [],
   "source": [
    "#standard(stats)\n",
    "stats = [\"player\",\"nationality\",\"position\",\"squad\",\"age\",\"birth_year\",\"games\",\"games_starts\",\"minutes\",\"goals\",\"assists\",\"pens_made\",\"pens_att\",\"cards_yellow\",\"cards_red\",\"goals_per90\",\"assists_per90\",\"goals_assists_per90\",\"goals_pens_per90\",\"goals_assists_pens_per90\",\"xg\",\"npxg\",\"xa\",\"xg_per90\",\"xa_per90\",\"xg_xa_per90\",\"npxg_per90\",\"npxg_xa_per90\"]\n",
    "stats3 = [\"players_used\",\"possession\",\"games\",\"games_starts\",\"minutes\",\"goals\",\"assists\",\"pens_made\",\"pens_att\",\"cards_yellow\",\"cards_red\",\"goals_per90\",\"assists_per90\",\"goals_assists_per90\",\"goals_pens_per90\",\"goals_assists_pens_per90\",\"xg\",\"npxg\",\"xa\",\"xg_per90\",\"xa_per90\",\"xg_xa_per90\",\"npxg_per90\",\"npxg_xa_per90\"] \n",
    "#goalkeeping(keepers)\n",
    "keepers = [\"player\",\"nationality\",\"position\",\"squad\",\"age\",\"birth_year\",\"games_gk\",\"games_starts_gk\",\"minutes_gk\",\"goals_against_gk\",\"goals_against_per90_gk\",\"shots_on_target_against\",\"saves\",\"save_pct\",\"wins_gk\",\"draws_gk\",\"losses_gk\",\"clean_sheets\",\"clean_sheets_pct\",\"pens_att_gk\",\"pens_allowed\",\"pens_saved\",\"pens_missed_gk\"]\n",
    "keepers3 = [\"players_used\",\"games_gk\",\"games_starts_gk\",\"minutes_gk\",\"goals_against_gk\",\"goals_against_per90_gk\",\"shots_on_target_against\",\"saves\",\"save_pct\",\"wins_gk\",\"draws_gk\",\"losses_gk\",\"clean_sheets\",\"clean_sheets_pct\",\"pens_att_gk\",\"pens_allowed\",\"pens_saved\",\"pens_missed_gk\"]\n",
    "#advance goalkeeping(keepersadv)\n",
    "keepersadv = [\"player\",\"nationality\",\"position\",\"squad\",\"age\",\"birth_year\",\"minutes_90s\",\"goals_against_gk\",\"pens_allowed\",\"free_kick_goals_against_gk\",\"corner_kick_goals_against_gk\",\"own_goals_against_gk\",\"psxg_gk\",\"psnpxg_per_shot_on_target_against\",\"psxg_net_gk\",\"psxg_net_per90_gk\",\"passes_completed_launched_gk\",\"passes_launched_gk\",\"passes_pct_launched_gk\",\"passes_gk\",\"passes_throws_gk\",\"pct_passes_launched_gk\",\"passes_length_avg_gk\",\"goal_kicks\",\"pct_goal_kicks_launched\",\"goal_kick_length_avg\",\"crosses_gk\",\"crosses_stopped_gk\",\"crosses_stopped_pct_gk\",\"def_actions_outside_pen_area_gk\",\"def_actions_outside_pen_area_per90_gk\",\"avg_distance_def_actions_gk\"]\n",
    "keepersadv2 = [\"minutes_90s\",\"goals_against_gk\",\"pens_allowed\",\"free_kick_goals_against_gk\",\"corner_kick_goals_against_gk\",\"own_goals_against_gk\",\"psxg_gk\",\"psnpxg_per_shot_on_target_against\",\"psxg_net_gk\",\"psxg_net_per90_gk\",\"passes_completed_launched_gk\",\"passes_launched_gk\",\"passes_pct_launched_gk\",\"passes_gk\",\"passes_throws_gk\",\"pct_passes_launched_gk\",\"passes_length_avg_gk\",\"goal_kicks\",\"pct_goal_kicks_launched\",\"goal_kick_length_avg\",\"crosses_gk\",\"crosses_stopped_gk\",\"crosses_stopped_pct_gk\",\"def_actions_outside_pen_area_gk\",\"def_actions_outside_pen_area_per90_gk\",\"avg_distance_def_actions_gk\"]\n",
    "#shooting(shooting)\n",
    "shooting = [\"player\",\"nationality\",\"position\",\"squad\",\"age\",\"birth_year\",\"minutes_90s\",\"goals\",\"pens_made\",\"pens_att\",\"shots_total\",\"shots_on_target\",\"shots_free_kicks\",\"shots_on_target_pct\",\"shots_total_per90\",\"shots_on_target_per90\",\"goals_per_shot\",\"goals_per_shot_on_target\",\"xg\",\"npxg\",\"npxg_per_shot\",\"xg_net\",\"npxg_net\"]\n",
    "shooting2 = [\"minutes_90s\",\"goals\",\"pens_made\",\"pens_att\",\"shots_total\",\"shots_on_target\",\"shots_free_kicks\",\"shots_on_target_pct\",\"shots_total_per90\",\"shots_on_target_per90\",\"goals_per_shot\",\"goals_per_shot_on_target\",\"xg\",\"npxg\",\"npxg_per_shot\",\"xg_net\",\"npxg_net\"]\n",
    "shooting3 = [\"goals\",\"pens_made\",\"pens_att\",\"shots_total\",\"shots_on_target\",\"shots_free_kicks\",\"shots_on_target_pct\",\"shots_total_per90\",\"shots_on_target_per90\",\"goals_per_shot\",\"goals_per_shot_on_target\",\"xg\",\"npxg\",\"npxg_per_shot\",\"xg_net\",\"npxg_net\"]\n",
    "#passing(passing)\n",
    "passing = [\"player\",\"nationality\",\"position\",\"squad\",\"age\",\"birth_year\",\"minutes_90s\",\"passes_completed\",\"passes\",\"passes_pct\",\"passes_total_distance\",\"passes_progressive_distance\",\"passes_completed_short\",\"passes_short\",\"passes_pct_short\",\"passes_completed_medium\",\"passes_medium\",\"passes_pct_medium\",\"passes_completed_long\",\"passes_long\",\"passes_pct_long\",\"assists\",\"xa\",\"xa_net\",\"assisted_shots\",\"passes_into_final_third\",\"passes_into_penalty_area\",\"crosses_into_penalty_area\",\"progressive_passes\"]\n",
    "passing2 = [\"passes_completed\",\"passes\",\"passes_pct\",\"passes_total_distance\",\"passes_progressive_distance\",\"passes_completed_short\",\"passes_short\",\"passes_pct_short\",\"passes_completed_medium\",\"passes_medium\",\"passes_pct_medium\",\"passes_completed_long\",\"passes_long\",\"passes_pct_long\",\"assists\",\"xa\",\"xa_net\",\"assisted_shots\",\"passes_into_final_third\",\"passes_into_penalty_area\",\"crosses_into_penalty_area\",\"progressive_passes\"]\n",
    "#passtypes(passing_types)\n",
    "passing_types = [\"player\",\"nationality\",\"position\",\"squad\",\"age\",\"birth_year\",\"minutes_90s\",\"passes\",\"passes_live\",\"passes_dead\",\"passes_free_kicks\",\"through_balls\",\"passes_pressure\",\"passes_switches\",\"crosses\",\"corner_kicks\",\"corner_kicks_in\",\"corner_kicks_out\",\"corner_kicks_straight\",\"passes_ground\",\"passes_low\",\"passes_high\",\"passes_left_foot\",\"passes_right_foot\",\"passes_head\",\"throw_ins\",\"passes_other_body\",\"passes_completed\",\"passes_offsides\",\"passes_oob\",\"passes_intercepted\",\"passes_blocked\"]\n",
    "passing_types2 = [\"passes\",\"passes_live\",\"passes_dead\",\"passes_free_kicks\",\"through_balls\",\"passes_pressure\",\"passes_switches\",\"crosses\",\"corner_kicks\",\"corner_kicks_in\",\"corner_kicks_out\",\"corner_kicks_straight\",\"passes_ground\",\"passes_low\",\"passes_high\",\"passes_left_foot\",\"passes_right_foot\",\"passes_head\",\"throw_ins\",\"passes_other_body\",\"passes_completed\",\"passes_offsides\",\"passes_oob\",\"passes_intercepted\",\"passes_blocked\"]\n",
    "#goal and shot creation(gca)\n",
    "gca = [\"player\",\"nationality\",\"position\",\"squad\",\"age\",\"birth_year\",\"minutes_90s\",\"sca\",\"sca_per90\",\"sca_passes_live\",\"sca_passes_dead\",\"sca_dribbles\",\"sca_shots\",\"sca_fouled\",\"gca\",\"gca_per90\",\"gca_passes_live\",\"gca_passes_dead\",\"gca_dribbles\",\"gca_shots\",\"gca_fouled\",\"gca_defense\"]\n",
    "gca2 = [\"sca\",\"sca_per90\",\"sca_passes_live\",\"sca_passes_dead\",\"sca_dribbles\",\"sca_shots\",\"sca_fouled\",\"gca\",\"gca_per90\",\"gca_passes_live\",\"gca_passes_dead\",\"gca_dribbles\",\"gca_shots\",\"gca_fouled\",\"gca_defense\"]\n",
    "#defensive actions(defense)\n",
    "defense = [\"player\",\"nationality\",\"position\",\"squad\",\"age\",\"birth_year\",\"minutes_90s\",\"tackles\",\"tackles_won\",\"tackles_def_3rd\",\"tackles_mid_3rd\",\"tackles_att_3rd\",\"dribble_tackles\",\"dribbles_vs\",\"dribble_tackles_pct\",\"dribbled_past\",\"pressures\",\"pressure_regains\",\"pressure_regain_pct\",\"pressures_def_3rd\",\"pressures_mid_3rd\",\"pressures_att_3rd\",\"blocks\",\"blocked_shots\",\"blocked_shots_saves\",\"blocked_passes\",\"interceptions\",\"clearances\",\"errors\"]\n",
    "defense2 = [\"tackles\",\"tackles_won\",\"tackles_def_3rd\",\"tackles_mid_3rd\",\"tackles_att_3rd\",\"dribble_tackles\",\"dribbles_vs\",\"dribble_tackles_pct\",\"dribbled_past\",\"pressures\",\"pressure_regains\",\"pressure_regain_pct\",\"pressures_def_3rd\",\"pressures_mid_3rd\",\"pressures_att_3rd\",\"blocks\",\"blocked_shots\",\"blocked_shots_saves\",\"blocked_passes\",\"interceptions\",\"clearances\",\"errors\"]\n",
    "#possession(possession)\n",
    "possession = [\"player\",\"nationality\",\"position\",\"squad\",\"age\",\"birth_year\",\"minutes_90s\",\"touches\",\"touches_def_pen_area\",\"touches_def_3rd\",\"touches_mid_3rd\",\"touches_att_3rd\",\"touches_att_pen_area\",\"touches_live_ball\",\"dribbles_completed\",\"dribbles\",\"dribbles_completed_pct\",\"players_dribbled_past\",\"nutmegs\",\"carries\",\"carry_distance\",\"carry_progressive_distance\",\"progressive_carries\",\"carries_into_final_third\",\"carries_into_penalty_area\",\"pass_targets\",\"passes_received\",\"passes_received_pct\",\"miscontrols\",\"dispossessed\"]\n",
    "possession2 = [\"touches\",\"touches_def_pen_area\",\"touches_def_3rd\",\"touches_mid_3rd\",\"touches_att_3rd\",\"touches_att_pen_area\",\"touches_live_ball\",\"dribbles_completed\",\"dribbles\",\"dribbles_completed_pct\",\"players_dribbled_past\",\"nutmegs\",\"carries\",\"carry_distance\",\"carry_progressive_distance\",\"progressive_carries\",\"carries_into_final_third\",\"carries_into_penalty_area\",\"pass_targets\",\"passes_received\",\"passes_received_pct\",\"miscontrols\",\"dispossessed\"]\n",
    "#playingtime(playingtime)\n",
    "playingtime = [\"player\",\"nationality\",\"position\",\"squad\",\"age\",\"birth_year\",\"minutes_90s\",\"games\",\"minutes\",\"minutes_per_game\",\"minutes_pct\",\"games_starts\",\"minutes_per_start\",\"games_subs\",\"minutes_per_sub\",\"unused_subs\",\"points_per_match\",\"on_goals_for\",\"on_goals_against\",\"plus_minus\",\"plus_minus_per90\",\"plus_minus_wowy\",\"on_xg_for\",\"on_xg_against\",\"xg_plus_minus\",\"xg_plus_minus_per90\",\"xg_plus_minus_wowy\"]\n",
    "playingtime2 = [\"games\",\"minutes\",\"minutes_per_game\",\"minutes_pct\",\"games_starts\",\"minutes_per_start\",\"games_subs\",\"minutes_per_sub\",\"unused_subs\",\"points_per_match\",\"on_goals_for\",\"on_goals_against\",\"plus_minus\",\"plus_minus_per90\",\"plus_minus_wowy\",\"on_xg_for\",\"on_xg_against\",\"xg_plus_minus\",\"xg_plus_minus_per90\",\"xg_plus_minus_wowy\"]\n",
    "#miscallaneous(misc)\n",
    "misc = [\"player\",\"nationality\",\"position\",\"squad\",\"age\",\"birth_year\",\"minutes_90s\",\"cards_yellow\",\"cards_red\",\"cards_yellow_red\",\"fouls\",\"fouled\",\"offsides\",\"crosses\",\"interceptions\",\"tackles_won\",\"pens_won\",\"pens_conceded\",\"own_goals\",\"ball_recoveries\",\"aerials_won\",\"aerials_lost\",\"aerials_won_pct\"]\n",
    "misc2 = [\"cards_yellow\",\"cards_red\",\"cards_yellow_red\",\"fouls\",\"fouled\",\"offsides\",\"crosses\",\"interceptions\",\"tackles_won\",\"pens_won\",\"pens_conceded\",\"own_goals\",\"ball_recoveries\",\"aerials_won\",\"aerials_lost\",\"aerials_won_pct\"]"
   ]
  },
  {
   "cell_type": "markdown",
   "id": "fb46a146",
   "metadata": {},
   "source": [
    "Much of the scraping code is taken from this repository: https://github.com/chmartin/FBref_EPL."
   ]
  },
  {
   "cell_type": "code",
   "execution_count": 3,
   "id": "70916651",
   "metadata": {},
   "outputs": [],
   "source": [
    "# Functions to get the data in a dataframe using BeautifulSoup\n",
    "\n",
    "def get_tables(url,text):\n",
    "    res = requests.get(url)\n",
    "    ## The next two lines get around the issue with comments breaking the parsing.\n",
    "    comm = re.compile(\"<!--|-->\")\n",
    "    soup = BeautifulSoup(comm.sub(\"\",res.text),'lxml')\n",
    "    all_tables = soup.findAll(\"tbody\")\n",
    "    \n",
    "    team_table = all_tables[0]\n",
    "    team_vs_table = all_tables[1]\n",
    "    player_table = all_tables[2]\n",
    "    if text == 'for':\n",
    "      return player_table, team_table\n",
    "    if text == 'vs':\n",
    "      return player_table, team_vs_table\n",
    "\n",
    "def get_frame(features, player_table):\n",
    "    pre_df_player = dict()\n",
    "    features_wanted_player = features\n",
    "    rows_player = player_table.find_all('tr')\n",
    "    for row in rows_player:\n",
    "        if(row.find('th',{\"scope\":\"row\"}) != None):\n",
    "    \n",
    "            for f in features_wanted_player:\n",
    "                cell = row.find(\"td\",{\"data-stat\": f})\n",
    "                a = cell.text.strip().encode()\n",
    "                text=a.decode(\"utf-8\")\n",
    "                if(text == ''):\n",
    "                    text = '0'\n",
    "                if((f!='player')&(f!='nationality')&(f!='position')&(f!='squad')&(f!='age')&(f!='birth_year')):\n",
    "                    text = float(text.replace(',',''))\n",
    "                if f in pre_df_player:\n",
    "                    pre_df_player[f].append(text)\n",
    "                else:\n",
    "                    pre_df_player[f] = [text]\n",
    "    df_player = pd.DataFrame.from_dict(pre_df_player)\n",
    "    return df_player\n",
    "\n",
    "def get_frame_team(features, team_table):\n",
    "    pre_df_squad = dict()\n",
    "    #Note: features does not contain squad name, it requires special treatment\n",
    "    features_wanted_squad = features\n",
    "    rows_squad = team_table.find_all('tr')\n",
    "    for row in rows_squad:\n",
    "        if(row.find('th',{\"scope\":\"row\"}) != None):\n",
    "            name = row.find('th',{\"data-stat\":\"squad\"}).text.strip().encode().decode(\"utf-8\")\n",
    "            if 'squad' in pre_df_squad:\n",
    "                pre_df_squad['squad'].append(name)\n",
    "            else:\n",
    "                pre_df_squad['squad'] = [name]\n",
    "            for f in features_wanted_squad:\n",
    "                cell = row.find(\"td\",{\"data-stat\": f})\n",
    "                a = cell.text.strip().encode()\n",
    "                text=a.decode(\"utf-8\")\n",
    "                if(text == ''):\n",
    "                    text = '0'\n",
    "                if((f!='player')&(f!='nationality')&(f!='position')&(f!='squad')&(f!='age')&(f!='birth_year')):\n",
    "                    text = float(text.replace(',',''))\n",
    "                if f in pre_df_squad:\n",
    "                    pre_df_squad[f].append(text)\n",
    "                else:\n",
    "                    pre_df_squad[f] = [text]\n",
    "    df_squad = pd.DataFrame.from_dict(pre_df_squad)\n",
    "    return df_squad\n",
    "\n",
    "def frame_for_category(category,top,end,features):\n",
    "    url = (top + category + end)\n",
    "    player_table, team_table = get_tables(url,'for')\n",
    "    df_player = get_frame(features, player_table)\n",
    "    return df_player\n",
    "\n",
    "def frame_for_category_team(category,top,end,features,text):\n",
    "    url = (top + category + end)\n",
    "    player_table, team_table = get_tables(url,text)\n",
    "    df_team = get_frame_team(features, team_table)\n",
    "    return df_team\n",
    "\n",
    "\n",
    "\n",
    "\n",
    "#Function to get the player data for outfield player, includes all categories - standard stats, shooting\n",
    "#passing, passing types, goal and shot creation, defensive actions, possession, and miscallaneous\n",
    "def get_outfield_data(top, end):\n",
    "    df1 = frame_for_category('stats',top,end,stats)\n",
    "    df2 = frame_for_category('shooting',top,end,shooting2)\n",
    "    df3 = frame_for_category('passing',top,end,passing2)\n",
    "    df4 = frame_for_category('passing_types',top,end,passing_types2)\n",
    "    df5 = frame_for_category('gca',top,end,gca2)\n",
    "    df6 = frame_for_category('defense',top,end,defense2)\n",
    "    df7 = frame_for_category('possession',top,end,possession2)\n",
    "    df8 = frame_for_category('misc',top,end,misc2)\n",
    "    df = pd.concat([df1, df2, df3, df4, df5, df6, df7, df8], axis=1)\n",
    "    df = df.loc[:,~df.columns.duplicated()]\n",
    "    return df\n",
    "\n",
    "\n",
    "#Function to get keeping and advance goalkeeping data\n",
    "def get_keeper_data(top,end):\n",
    "    df1 = frame_for_category('keepers',top,end,keepers)\n",
    "    df2 = frame_for_category('keepersadv',top,end,keepersadv2)\n",
    "    df = pd.concat([df1, df2], axis=1)\n",
    "    df = df.loc[:,~df.columns.duplicated()]\n",
    "    return df\n",
    "\n",
    "\n",
    "\n",
    "#Function to get team-wise data accross all categories as mentioned above\n",
    "def get_team_data(top,end,text):\n",
    "    df1 = frame_for_category_team('stats',top,end,stats3,text)\n",
    "    df2 = frame_for_category_team('keepers',top,end,keepers3,text)\n",
    "    df3 = frame_for_category_team('keepersadv',top,end,keepersadv2,text)\n",
    "    df4 = frame_for_category_team('shooting',top,end,shooting3,text)\n",
    "    df5 = frame_for_category_team('passing',top,end,passing2,text)\n",
    "    df6 = frame_for_category_team('passing_types',top,end,passing_types2,text)\n",
    "    df7 = frame_for_category_team('gca',top,end,gca2,text)\n",
    "    df8 = frame_for_category_team('defense',top,end,defense2,text)\n",
    "    df9 = frame_for_category_team('possession',top,end,possession2,text)\n",
    "    df10 = frame_for_category_team('misc',top,end,misc2,text)\n",
    "    df = pd.concat([df1, df2, df3, df4, df5, df6, df7, df8, df9, df10], axis=1)\n",
    "    df = df.loc[:,~df.columns.duplicated()]\n",
    "    return df"
   ]
  },
  {
   "cell_type": "code",
   "execution_count": null,
   "id": "b8ad10c8",
   "metadata": {},
   "outputs": [],
   "source": [
    "from datetime import datetime\n",
    "\n",
    "today = datetime.now()\n",
    "if datetime(1970,today.month, today.day) <= datetime(1970,6,30):\n",
    "    current_season = str(int(today.year) - 1) + \"-\" + str(today.year)\n",
    "else:\n",
    "    current_season = str(today.year) + \"-\" + str(int(today.year) + 1)"
   ]
  },
  {
   "cell_type": "markdown",
   "id": "e5e0bd65",
   "metadata": {},
   "source": [
    "## get_outfield_data"
   ]
  },
  {
   "cell_type": "code",
   "execution_count": null,
   "id": "67525b04",
   "metadata": {},
   "outputs": [
    {
     "data": {
      "text/markdown": [
       "\n",
       "This cell is to get the outfield player data for any competition.\n",
       "\n",
       "Go to the 'Standard stats' page of the league\n",
       "\n",
       "For Serie A 2025/2026, the link is this: https://fbref.com/en/comps/11/stats/Serie-A-Stats.\n",
       "\n",
       "Remove the 'stats', and pass the first and third part of the link as parameters like below.\n"
      ],
      "text/plain": [
       "<IPython.core.display.Markdown object>"
      ]
     },
     "metadata": {},
     "output_type": "display_data"
    }
   ],
   "source": [
    "get_outfield_text = f\"\"\"\n",
    "This cell is to get the outfield player data for any competition.\n",
    "\n",
    "Go to the 'Standard stats' page of the league.\n",
    "\n",
    "For Serie A {current_season.replace(\"-\",\"/\")}, the link is this: https://fbref.com/en/comps/11/stats/Serie-A-Stats.\n",
    "\n",
    "Remove the 'stats', and pass the first and third part of the link as parameters like below.\n",
    "\"\"\"\n",
    "display(Markdown(get_outfield_text))"
   ]
  },
  {
   "cell_type": "code",
   "execution_count": null,
   "id": "88327d01",
   "metadata": {},
   "outputs": [],
   "source": [
    "df_outfield = get_outfield_data('https://fbref.com/en/comps/11/','/Serie-A-Stats')\n",
    "df_outfield.to_csv(f\"{FBREF_DATA_DIR}/SA26_outfield.csv\", index=False)"
   ]
  },
  {
   "cell_type": "markdown",
   "id": "3f7854b8",
   "metadata": {},
   "source": [
    "## get_team_data"
   ]
  },
  {
   "cell_type": "code",
   "execution_count": 42,
   "id": "c5eb42cf",
   "metadata": {},
   "outputs": [
    {
     "data": {
      "text/markdown": [
       "\n",
       "This cell is to get the data FOR all teams in any competition.\n",
       "\n",
       "Go to the 'Standard stats' page of the league.\n",
       "\n",
       "For Serie A 2025/2026, the link is this: https://fbref.com/en/comps/11/stats/Serie-A-Stats.\n",
       "\n",
       "Remove the 'stats', and pass the first and third part of the link as parameters like below.\n"
      ],
      "text/plain": [
       "<IPython.core.display.Markdown object>"
      ]
     },
     "metadata": {},
     "output_type": "display_data"
    }
   ],
   "source": [
    "get_team_for_text = f\"\"\"\n",
    "This cell is to get the data FOR all teams in any competition.\n",
    "\n",
    "Go to the 'Standard stats' page of the league.\n",
    "\n",
    "For Serie A {current_season.replace(\"-\",\"/\")}, the link is this: https://fbref.com/en/comps/11/stats/Serie-A-Stats.\n",
    "\n",
    "Remove the 'stats', and pass the first and third part of the link as parameters like below.\n",
    "\"\"\"\n",
    "display(Markdown(get_team_for_text))"
   ]
  },
  {
   "cell_type": "code",
   "execution_count": null,
   "id": "ee7693c5",
   "metadata": {},
   "outputs": [],
   "source": [
    "df_team = get_team_data('https://fbref.com/en/comps/11/','/Serie-A-Stats','for')\n",
    "df_team.to_csv(f\"{FBREF_DATA_DIR}/SA26_teams.csv\", index=False)"
   ]
  },
  {
   "cell_type": "code",
   "execution_count": 43,
   "id": "da9afc73",
   "metadata": {},
   "outputs": [
    {
     "data": {
      "text/markdown": [
       "\n",
       "This cell is to get the data VS all teams in any competition.\n",
       "\n",
       "Go to the 'Standard stats' page of the league.\n",
       "\n",
       "For Serie A 2025/2026, the link is this: https://fbref.com/en/comps/11/stats/Serie-A-Stats.\n",
       "\n",
       "Remove the 'stats', and pass the first and third part of the link as parameters like below.\n"
      ],
      "text/plain": [
       "<IPython.core.display.Markdown object>"
      ]
     },
     "metadata": {},
     "output_type": "display_data"
    }
   ],
   "source": [
    "get_team_vs_text = f\"\"\"\n",
    "This cell is to get the data VS all teams in any competition.\n",
    "\n",
    "Go to the 'Standard stats' page of the league.\n",
    "\n",
    "For Serie A {current_season.replace(\"-\",\"/\")}, the link is this: https://fbref.com/en/comps/11/stats/Serie-A-Stats.\n",
    "\n",
    "Remove the 'stats', and pass the first and third part of the link as parameters like below.\n",
    "\"\"\"\n",
    "display(Markdown(get_team_vs_text))"
   ]
  },
  {
   "cell_type": "code",
   "execution_count": null,
   "id": "9af0afe7",
   "metadata": {},
   "outputs": [],
   "source": [
    "df_team = get_team_data('https://fbref.com/en/comps/11/','/Serie-A-Stats','vs')\n",
    "df_team.to_csv(f\"{FBREF_DATA_DIR}/SA26_teams_vs.csv\", index=False)"
   ]
  },
  {
   "cell_type": "markdown",
   "id": "f6ae1e94",
   "metadata": {},
   "source": [
    "## get_keeper_data"
   ]
  },
  {
   "cell_type": "code",
   "execution_count": 44,
   "id": "a2f5b153",
   "metadata": {},
   "outputs": [
    {
     "data": {
      "text/markdown": [
       "\n",
       "This cell is to get goalkeeper data for any competition.\n",
       "\n",
       "Go to the 'Standard stats' page of the league.\n",
       "\n",
       "For Serie A 2025/2026, the link is this: https://fbref.com/en/comps/11/stats/Serie-A-Stats.\n",
       "\n",
       "Remove the 'stats', and pass the first and third part of the link as parameters like below.\n"
      ],
      "text/plain": [
       "<IPython.core.display.Markdown object>"
      ]
     },
     "metadata": {},
     "output_type": "display_data"
    }
   ],
   "source": [
    "get_keeper_text = f\"\"\"\n",
    "This cell is to get goalkeeper data for any competition.\n",
    "\n",
    "Go to the 'Standard stats' page of the league.\n",
    "\n",
    "For Serie A {current_season.replace(\"-\",\"/\")}, the link is this: https://fbref.com/en/comps/11/stats/Serie-A-Stats.\n",
    "\n",
    "Remove the 'stats', and pass the first and third part of the link as parameters like below.\n",
    "\"\"\"\n",
    "display(Markdown(get_keeper_text))"
   ]
  },
  {
   "cell_type": "code",
   "execution_count": null,
   "id": "9f8d0781",
   "metadata": {},
   "outputs": [],
   "source": [
    "df_keeper = get_keeper_data('https://fbref.com/en/comps/11/','/Serie-A-Stats','vs')\n",
    "df_keeper.to_csv(f\"{FBREF_DATA_DIR}/SA26_keepers.csv\", index=False)"
   ]
  },
  {
   "cell_type": "code",
   "execution_count": null,
   "id": "99edefd6",
   "metadata": {},
   "outputs": [],
   "source": [
    "display(Markdown(\"### Outfield player columns\"))\n",
    "print(df_outfield.columns.values)"
   ]
  }
 ],
 "metadata": {
  "kernelspec": {
   "display_name": ".venv",
   "language": "python",
   "name": "python3"
  },
  "language_info": {
   "codemirror_mode": {
    "name": "ipython",
    "version": 3
   },
   "file_extension": ".py",
   "mimetype": "text/x-python",
   "name": "python",
   "nbconvert_exporter": "python",
   "pygments_lexer": "ipython3",
   "version": "3.13.6"
  }
 },
 "nbformat": 4,
 "nbformat_minor": 5
}
