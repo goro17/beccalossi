{
 "cells": [
  {
   "cell_type": "code",
   "execution_count": null,
   "id": "7819d186",
   "metadata": {},
   "outputs": [],
   "source": [
    "import os\n",
    "from pathlib import Path\n",
    "\n",
    "from loguru import logger\n",
    "from soccerdata import FBref"
   ]
  },
  {
   "cell_type": "code",
   "execution_count": null,
   "id": "e16c4739",
   "metadata": {},
   "outputs": [],
   "source": [
    "# ===== Defining the data directories ====#\n",
    "PROJECT_ROOT = Path().absolute().parent.parent\n",
    "DATA_DIR = PROJECT_ROOT / \"datasets\" \n",
    "FANTACALCIO_DATA_DIR = DATA_DIR / \"fantacalcio_data\"\n",
    "FBREF_CACHE_DIR = PROJECT_ROOT / \".cache\" / \"fbref\" # needed for FBRef\n",
    "\n",
    "os.makedirs(DATA_DIR, exist_ok=True)\n",
    "os.makedirs(FANTACALCIO_DATA_DIR, exist_ok=True)\n",
    "os.makedirs(FBREF_CACHE_DIR, exist_ok=True)\n",
    "\n",
    "logger.info(f\"Project root: {PROJECT_ROOT}\")\n",
    "logger.info(f\"Data directory: {DATA_DIR}\")\n",
    "logger.info(f\"Fantacalcio data directory: {FANTACALCIO_DATA_DIR}\")\n",
    "logger.info(f\"FBRef cache directory: {FBREF_CACHE_DIR}\")"
   ]
  },
  {
   "cell_type": "code",
   "execution_count": null,
   "id": "5bd7e773",
   "metadata": {},
   "outputs": [],
   "source": [
    "fbref = FBref(leagues=\"ITA-Serie A\", seasons=[21,22,23,24,25], data_dir=FBREF_CACHE_DIR)"
   ]
  },
  {
   "cell_type": "code",
   "execution_count": null,
   "id": "6c606e10",
   "metadata": {},
   "outputs": [],
   "source": [
    "df_schedule = fbref.read_schedule()"
   ]
  },
  {
   "cell_type": "code",
   "execution_count": null,
   "id": "6d27559f",
   "metadata": {},
   "outputs": [],
   "source": [
    "df_calendar = df_schedule.reset_index().loc[:,[\"season\",\"week\",\"home_team\",\"away_team\"]]"
   ]
  },
  {
   "cell_type": "code",
   "execution_count": null,
   "id": "3566a459",
   "metadata": {},
   "outputs": [],
   "source": [
    "df_calendar.rename(columns={\n",
    "    \"week\": \"matchday\",\n",
    "    \"home_team\": \"team1\",\n",
    "    \"away_team\": \"team2\",\n",
    "}, inplace=True)\n",
    "df_calendar.dropna(inplace=True)        # Non-championship games, such as tiebreaks/play-outs, are excluded\n",
    "df_calendar.replace(\"Hellas Verona\", \"Verona\", inplace=True)\n",
    "df_calendar.to_csv(FANTACALCIO_DATA_DIR / \"seriea_calendar.csv\", index=False)"
   ]
  }
 ],
 "metadata": {
  "kernelspec": {
   "display_name": "beccalossi-temp",
   "language": "python",
   "name": "python3"
  },
  "language_info": {
   "codemirror_mode": {
    "name": "ipython",
    "version": 3
   },
   "file_extension": ".py",
   "mimetype": "text/x-python",
   "name": "python",
   "nbconvert_exporter": "python",
   "pygments_lexer": "ipython3",
   "version": "3.13.5"
  }
 },
 "nbformat": 4,
 "nbformat_minor": 5
}
