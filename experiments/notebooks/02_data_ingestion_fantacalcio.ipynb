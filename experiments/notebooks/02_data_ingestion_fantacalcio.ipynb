{
 "cells": [
  {
   "cell_type": "code",
   "execution_count": 2,
   "id": "7819d186",
   "metadata": {},
   "outputs": [],
   "source": [
    "import os\n",
    "from pathlib import Path\n",
    "\n",
    "from loguru import logger\n",
    "from soccerdata import FBref"
   ]
  },
  {
   "cell_type": "code",
   "execution_count": 3,
   "id": "e16c4739",
   "metadata": {},
   "outputs": [
    {
     "name": "stderr",
     "output_type": "stream",
     "text": [
      "\u001b[32m2025-09-20 10:41:02.221\u001b[0m | \u001b[1mINFO    \u001b[0m | \u001b[36m__main__\u001b[0m:\u001b[36m<module>\u001b[0m:\u001b[36m11\u001b[0m - \u001b[1mProject root: c:\\Users\\Giorgio\\dev\\beccalossi\u001b[0m\n",
      "\u001b[32m2025-09-20 10:41:02.222\u001b[0m | \u001b[1mINFO    \u001b[0m | \u001b[36m__main__\u001b[0m:\u001b[36m<module>\u001b[0m:\u001b[36m12\u001b[0m - \u001b[1mData directory: c:\\Users\\Giorgio\\dev\\beccalossi\\datasets\u001b[0m\n",
      "\u001b[32m2025-09-20 10:41:02.223\u001b[0m | \u001b[1mINFO    \u001b[0m | \u001b[36m__main__\u001b[0m:\u001b[36m<module>\u001b[0m:\u001b[36m13\u001b[0m - \u001b[1mFantacalcio data directory: c:\\Users\\Giorgio\\dev\\beccalossi\\datasets\\fantacalcio_data\u001b[0m\n",
      "\u001b[32m2025-09-20 10:41:02.224\u001b[0m | \u001b[1mINFO    \u001b[0m | \u001b[36m__main__\u001b[0m:\u001b[36m<module>\u001b[0m:\u001b[36m14\u001b[0m - \u001b[1mFBRef cache directory: c:\\Users\\Giorgio\\dev\\beccalossi\\.cache\\fbref\u001b[0m\n"
     ]
    }
   ],
   "source": [
    "# ===== Defining the data directories ====#\n",
    "PROJECT_ROOT = Path().absolute().parent.parent\n",
    "DATA_DIR = PROJECT_ROOT / \"datasets\" \n",
    "FANTACALCIO_DATA_DIR = DATA_DIR / \"fantacalcio_data\"\n",
    "FBREF_CACHE_DIR = PROJECT_ROOT / \".cache\" / \"fbref\" # needed for FBRef\n",
    "\n",
    "os.makedirs(DATA_DIR, exist_ok=True)\n",
    "os.makedirs(FANTACALCIO_DATA_DIR, exist_ok=True)\n",
    "os.makedirs(FBREF_CACHE_DIR, exist_ok=True)\n",
    "\n",
    "logger.info(f\"Project root: {PROJECT_ROOT}\")\n",
    "logger.info(f\"Data directory: {DATA_DIR}\")\n",
    "logger.info(f\"Fantacalcio data directory: {FANTACALCIO_DATA_DIR}\")\n",
    "logger.info(f\"FBRef cache directory: {FBREF_CACHE_DIR}\")"
   ]
  },
  {
   "cell_type": "code",
   "execution_count": 4,
   "id": "5bd7e773",
   "metadata": {},
   "outputs": [
    {
     "data": {
      "text/html": [
       "<pre style=\"white-space:pre;overflow-x:auto;line-height:normal;font-family:Menlo,'DejaVu Sans Mono',consolas,'Courier New',monospace\"><span style=\"color: #7fbfbf; text-decoration-color: #7fbfbf\">[09/20/25 10:41:18] </span><span style=\"color: #000080; text-decoration-color: #000080\">INFO    </span> Saving cached data to c:\\Users\\Giorgio\\dev\\beccalossi\\.cache\\fbref      <a href=\"file://c:\\Users\\Giorgio\\dev\\beccalossi\\.venv\\Lib\\site-packages\\soccerdata\\_common.py\" target=\"_blank\"><span style=\"color: #7f7f7f; text-decoration-color: #7f7f7f\">_common.py</span></a><span style=\"color: #7f7f7f; text-decoration-color: #7f7f7f\">:</span><a href=\"file://c:\\Users\\Giorgio\\dev\\beccalossi\\.venv\\Lib\\site-packages\\soccerdata\\_common.py#263\" target=\"_blank\"><span style=\"color: #7f7f7f; text-decoration-color: #7f7f7f\">263</span></a>\n",
       "</pre>\n"
      ],
      "text/plain": [
       "\u001b[2;36m[09/20/25 10:41:18]\u001b[0m\u001b[2;36m \u001b[0m\u001b[34mINFO    \u001b[0m Saving cached data to c:\\Users\\Giorgio\\dev\\beccalossi\\.cache\\fbref      \u001b]8;id=469429;file://c:\\Users\\Giorgio\\dev\\beccalossi\\.venv\\Lib\\site-packages\\soccerdata\\_common.py\u001b\\\u001b[2m_common.py\u001b[0m\u001b]8;;\u001b\\\u001b[2m:\u001b[0m\u001b]8;id=674396;file://c:\\Users\\Giorgio\\dev\\beccalossi\\.venv\\Lib\\site-packages\\soccerdata\\_common.py#263\u001b\\\u001b[2m263\u001b[0m\u001b]8;;\u001b\\\n"
      ]
     },
     "metadata": {},
     "output_type": "display_data"
    }
   ],
   "source": [
    "fbref = FBref(leagues=\"ITA-Serie A\", seasons=[21,22,23,24,25], data_dir=FBREF_CACHE_DIR)"
   ]
  },
  {
   "cell_type": "code",
   "execution_count": 5,
   "id": "6c606e10",
   "metadata": {},
   "outputs": [
    {
     "name": "stderr",
     "output_type": "stream",
     "text": [
      "c:\\Users\\Giorgio\\dev\\beccalossi\\.venv\\Lib\\site-packages\\soccerdata\\fbref.py:159: FutureWarning: The behavior of DataFrame concatenation with empty or all-NA entries is deprecated. In a future version, this will no longer exclude empty or all-NA columns when determining the result dtypes. To retain the old behavior, exclude the relevant entries before the concat operation.\n",
      "  pd.concat(dfs)\n",
      "c:\\Users\\Giorgio\\dev\\beccalossi\\.venv\\Lib\\site-packages\\soccerdata\\fbref.py:701: FutureWarning: The behavior of DataFrame concatenation with empty or all-NA entries is deprecated. In a future version, this will no longer exclude empty or all-NA columns when determining the result dtypes. To retain the old behavior, exclude the relevant entries before the concat operation.\n",
      "  pd.concat(schedule)\n"
     ]
    }
   ],
   "source": [
    "df_schedule = fbref.read_schedule()"
   ]
  },
  {
   "cell_type": "code",
   "execution_count": 10,
   "id": "6d27559f",
   "metadata": {},
   "outputs": [],
   "source": [
    "df_calendar = df_schedule.reset_index().loc[:,[\"season\",\"week\",\"home_team\",\"away_team\"]]"
   ]
  },
  {
   "cell_type": "code",
   "execution_count": 16,
   "id": "3566a459",
   "metadata": {},
   "outputs": [],
   "source": [
    "df_calendar.rename(columns={\n",
    "    \"week\": \"matchday\",\n",
    "    \"home_team\": \"team1\",\n",
    "    \"away_team\": \"team2\",\n",
    "}, inplace=True)\n",
    "df_calendar.dropna(inplace=True)        # Non-championship games, such as tiebreaks/play-outs, are excluded\n",
    "df_calendar.replace(\"Hellas Verona\", \"Verona\", inplace=True)\n",
    "df_calendar.to_csv(FANTACALCIO_DATA_DIR / \"seriea_calendar.csv\", index=False)"
   ]
  }
 ],
 "metadata": {
  "kernelspec": {
   "display_name": "beccalossi-temp",
   "language": "python",
   "name": "python3"
  },
  "language_info": {
   "codemirror_mode": {
    "name": "ipython",
    "version": 3
   },
   "file_extension": ".py",
   "mimetype": "text/x-python",
   "name": "python",
   "nbconvert_exporter": "python",
   "pygments_lexer": "ipython3",
   "version": "3.13.5"
  }
 },
 "nbformat": 4,
 "nbformat_minor": 5
}
