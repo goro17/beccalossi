{
 "cells": [
  {
   "cell_type": "code",
   "execution_count": 1,
   "id": "cdc24663",
   "metadata": {},
   "outputs": [],
   "source": [
    "import os\n",
    "import pandas as pd\n",
    "from loguru import logger\n",
    "\n",
    "os.chdir(\"..\")"
   ]
  },
  {
   "cell_type": "code",
   "execution_count": 2,
   "id": "db03ee42",
   "metadata": {},
   "outputs": [],
   "source": [
    "# Configura il range di stagioni per la raccolta dati (es. 2026 per la stagione 2025/2026)\n",
    "stag_iniziale = 2022\n",
    "stag_finale = 2026\n",
    "\n",
    "# Configurazioni aggiuntive\n",
    "DATA_DIR = \"data\"\n",
    "RAW_DIR = os.path.join(DATA_DIR, \"raw\")\n",
    "PROCESSED_DIR = os.path.join(DATA_DIR, \"processed\")"
   ]
  },
  {
   "cell_type": "code",
   "execution_count": 9,
   "id": "33a97c5b",
   "metadata": {},
   "outputs": [],
   "source": [
    "def merge_dati(anno_inizio: int):\n",
    "    anno_fine = anno_inizio + 1\n",
    "    anno_fine_short = str(anno_fine)[-2:]\n",
    "    \n",
    "    logger.info(f\"Elaborazione dei file per la stagione {anno_inizio}/{anno_fine_short} in corso...\")\n",
    "    \n",
    "    file_quotazioni = os.path.join(\n",
    "        RAW_DIR,\n",
    "        \"quotazioni\",\n",
    "        \"Quotazioni_Fantacalcio_Stagione_\" +\n",
    "        str(anno_inizio) +\n",
    "        \"_\" +\n",
    "        anno_fine_short + \n",
    "        \".xlsx\"\n",
    "    )\n",
    "    file_statistiche = os.path.join(\n",
    "        RAW_DIR,\n",
    "        \"statistiche\",\n",
    "        \"Statistiche_Fantacalcio_Stagione_\" +\n",
    "        str(anno_inizio) +\n",
    "        \"_\" +\n",
    "        anno_fine_short + \n",
    "        \".xlsx\"\n",
    "    )\n",
    "    file_output = os.path.join(\n",
    "        PROCESSED_DIR,\n",
    "        \"Dataset_\" +\n",
    "        str(anno_inizio) +\n",
    "        \"_\" +\n",
    "        anno_fine_short + \n",
    "        \".bcsv\"\n",
    "    )\n",
    "    \n",
    "    try:\n",
    "        df_quotazioni = pd.read_excel(file_quotazioni, engine=\"openpyxl\", header=1)\n",
    "        df_statistiche = pd.read_excel(file_statistiche, engine=\"openpyxl\", header=1)\n",
    "    \n",
    "        colonne_da_rimuovere = [\"R\", \"Nome\", \"Squadra\"]\n",
    "        df_statistiche_pulito = df_statistiche.copy()\n",
    "    \n",
    "        for col in colonne_da_rimuovere:\n",
    "            if col in df_statistiche_pulito.columns:\n",
    "                df_statistiche_pulito = df_statistiche_pulito.drop(columns=[col])\n",
    "            else:\n",
    "                logger.warning(f\"Attenzione: Colonna '{col}' non trovata nel DataFrame delle statistiche. Potrebbe essere già assente o avere un nome diverso.\")\n",
    "\n",
    "        df_merged = pd.merge(df_quotazioni, df_statistiche_pulito, on=\"Id\", how=\"inner\")\n",
    "        logger.success(f\"Dati stagione {anno_inizio}/{anno_fine_short} uniti con successo.\")\n",
    "        df_merged.to_csv(file_output, index=False)\n",
    "        logger.success(f\"Dati esportati con successo in '{file_output}'.\")\n",
    "    except Exception as e:\n",
    "        logger.error(e)\n",
    "        raise"
   ]
  },
  {
   "cell_type": "code",
   "execution_count": 10,
   "id": "59f3f54f",
   "metadata": {},
   "outputs": [
    {
     "name": "stderr",
     "output_type": "stream",
     "text": [
      "\u001b[32m2025-08-29 21:57:55.237\u001b[0m | \u001b[1mINFO    \u001b[0m | \u001b[36m__main__\u001b[0m:\u001b[36mmerge_dati\u001b[0m:\u001b[36m5\u001b[0m - \u001b[1mElaborazione dei file per la stagione 2022/23 in corso...\u001b[0m\n",
      "\u001b[32m2025-08-29 21:57:55.339\u001b[0m | \u001b[32m\u001b[1mSUCCESS \u001b[0m | \u001b[36m__main__\u001b[0m:\u001b[36mmerge_dati\u001b[0m:\u001b[36m48\u001b[0m - \u001b[32m\u001b[1mDati stagione 2022/23 uniti con successo.\u001b[0m\n",
      "\u001b[32m2025-08-29 21:57:55.343\u001b[0m | \u001b[32m\u001b[1mSUCCESS \u001b[0m | \u001b[36m__main__\u001b[0m:\u001b[36mmerge_dati\u001b[0m:\u001b[36m50\u001b[0m - \u001b[32m\u001b[1mDati esportati con successo in 'data/processed/Dataset_2022_23.bcsv'.\u001b[0m\n",
      "\u001b[32m2025-08-29 21:57:55.343\u001b[0m | \u001b[1mINFO    \u001b[0m | \u001b[36m__main__\u001b[0m:\u001b[36mmerge_dati\u001b[0m:\u001b[36m5\u001b[0m - \u001b[1mElaborazione dei file per la stagione 2023/24 in corso...\u001b[0m\n",
      "\u001b[32m2025-08-29 21:57:55.489\u001b[0m | \u001b[32m\u001b[1mSUCCESS \u001b[0m | \u001b[36m__main__\u001b[0m:\u001b[36mmerge_dati\u001b[0m:\u001b[36m48\u001b[0m - \u001b[32m\u001b[1mDati stagione 2023/24 uniti con successo.\u001b[0m\n",
      "\u001b[32m2025-08-29 21:57:55.493\u001b[0m | \u001b[32m\u001b[1mSUCCESS \u001b[0m | \u001b[36m__main__\u001b[0m:\u001b[36mmerge_dati\u001b[0m:\u001b[36m50\u001b[0m - \u001b[32m\u001b[1mDati esportati con successo in 'data/processed/Dataset_2023_24.bcsv'.\u001b[0m\n",
      "\u001b[32m2025-08-29 21:57:55.494\u001b[0m | \u001b[1mINFO    \u001b[0m | \u001b[36m__main__\u001b[0m:\u001b[36mmerge_dati\u001b[0m:\u001b[36m5\u001b[0m - \u001b[1mElaborazione dei file per la stagione 2024/25 in corso...\u001b[0m\n",
      "\u001b[32m2025-08-29 21:57:55.595\u001b[0m | \u001b[32m\u001b[1mSUCCESS \u001b[0m | \u001b[36m__main__\u001b[0m:\u001b[36mmerge_dati\u001b[0m:\u001b[36m48\u001b[0m - \u001b[32m\u001b[1mDati stagione 2024/25 uniti con successo.\u001b[0m\n",
      "\u001b[32m2025-08-29 21:57:55.599\u001b[0m | \u001b[32m\u001b[1mSUCCESS \u001b[0m | \u001b[36m__main__\u001b[0m:\u001b[36mmerge_dati\u001b[0m:\u001b[36m50\u001b[0m - \u001b[32m\u001b[1mDati esportati con successo in 'data/processed/Dataset_2024_25.bcsv'.\u001b[0m\n",
      "\u001b[32m2025-08-29 21:57:55.599\u001b[0m | \u001b[1mINFO    \u001b[0m | \u001b[36m__main__\u001b[0m:\u001b[36mmerge_dati\u001b[0m:\u001b[36m5\u001b[0m - \u001b[1mElaborazione dei file per la stagione 2025/26 in corso...\u001b[0m\n",
      "\u001b[32m2025-08-29 21:57:55.723\u001b[0m | \u001b[32m\u001b[1mSUCCESS \u001b[0m | \u001b[36m__main__\u001b[0m:\u001b[36mmerge_dati\u001b[0m:\u001b[36m48\u001b[0m - \u001b[32m\u001b[1mDati stagione 2025/26 uniti con successo.\u001b[0m\n",
      "\u001b[32m2025-08-29 21:57:55.726\u001b[0m | \u001b[32m\u001b[1mSUCCESS \u001b[0m | \u001b[36m__main__\u001b[0m:\u001b[36mmerge_dati\u001b[0m:\u001b[36m50\u001b[0m - \u001b[32m\u001b[1mDati esportati con successo in 'data/processed/Dataset_2025_26.bcsv'.\u001b[0m\n",
      "\u001b[32m2025-08-29 21:57:55.727\u001b[0m | \u001b[32m\u001b[1mSUCCESS \u001b[0m | \u001b[36m__main__\u001b[0m:\u001b[36m<module>\u001b[0m:\u001b[36m4\u001b[0m - \u001b[32m\u001b[1mElaborazione completata per tutte le stagioni specificate!\u001b[0m\n"
     ]
    }
   ],
   "source": [
    "for anno in range(stag_iniziale, stag_finale):\n",
    "    merge_dati(anno)\n",
    "    \n",
    "logger.success(\"Elaborazione completata per tutte le stagioni specificate!\")"
   ]
  },
  {
   "cell_type": "code",
   "execution_count": null,
   "id": "f71ec97e",
   "metadata": {},
   "outputs": [],
   "source": []
  }
 ],
 "metadata": {
  "kernelspec": {
   "display_name": "beccalossi",
   "language": "python",
   "name": "python3"
  },
  "language_info": {
   "codemirror_mode": {
    "name": "ipython",
    "version": 3
   },
   "file_extension": ".py",
   "mimetype": "text/x-python",
   "name": "python",
   "nbconvert_exporter": "python",
   "pygments_lexer": "ipython3",
   "version": "3.10.12"
  }
 },
 "nbformat": 4,
 "nbformat_minor": 5
}
