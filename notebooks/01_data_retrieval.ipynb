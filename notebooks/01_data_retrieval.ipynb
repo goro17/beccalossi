{
 "cells": [
  {
   "cell_type": "code",
   "execution_count": 5,
   "id": "02af3c04",
   "metadata": {},
   "outputs": [],
   "source": [
    "import os\n",
    "import pandas as pd\n",
    "from loguru import logger\n",
    "\n",
    "os.chdir(\"..\")"
   ]
  },
  {
   "cell_type": "code",
   "execution_count": 6,
   "id": "1f2251b6",
   "metadata": {},
   "outputs": [],
   "source": [
    "# Configura il range di stagioni per la raccolta dati (es. 2026 per la stagione 2025/2026)\n",
    "stag_iniziale = 2022\n",
    "stag_finale = 2026\n",
    "\n",
    "# Configurazioni aggiuntive\n",
    "DATA_DIR = \"data\"\n",
    "RAW_DIR = os.path.join(DATA_DIR, \"raw\")"
   ]
  },
  {
   "cell_type": "code",
   "execution_count": 7,
   "id": "adc834ac",
   "metadata": {},
   "outputs": [],
   "source": [
    "def check_files(dir: os.PathLike, prefix: str, range_start: int, range_end: int):\n",
    "    num_missing_files = 0\n",
    "    num_total_files = range_end - range_start\n",
    "    for i in range(range_start, range_end):\n",
    "        anno_inizio = i\n",
    "        anno_fine = i + 1\n",
    "        anno_fine_short = str(anno_fine)[-2:]\n",
    "        suffix = f\"{str(anno_inizio)}_{anno_fine_short}.xlsx\"\n",
    "        if not os.path.exists(os.path.join(dir, prefix+suffix)):\n",
    "            logger.error(f\"File {os.path.join(dir, prefix+suffix)} non trovato o danneggiato.\")\n",
    "            num_missing_files+=1\n",
    "    if num_missing_files > 0:\n",
    "        logger.error(f\"{num_missing_files} su {num_total_files} file non sono stati trovati.\")\n",
    "    else:\n",
    "        logger.success(f\"{num_total_files} su {num_total_files} file sono stati trovati.\")"
   ]
  },
  {
   "cell_type": "code",
   "execution_count": null,
   "id": "4cf5dc40",
   "metadata": {},
   "outputs": [
    {
     "name": "stderr",
     "output_type": "stream",
     "text": [
      "\u001b[32m2025-08-29 21:14:40.509\u001b[0m | \u001b[1mINFO    \u001b[0m | \u001b[36m__main__\u001b[0m:\u001b[36m<module>\u001b[0m:\u001b[36m3\u001b[0m - \u001b[1mControllo dei file Quotazioni...\u001b[0m\n",
      "\u001b[32m2025-08-29 21:14:40.511\u001b[0m | \u001b[32m\u001b[1mSUCCESS \u001b[0m | \u001b[36m__main__\u001b[0m:\u001b[36mcheck_files\u001b[0m:\u001b[36m15\u001b[0m - \u001b[32m\u001b[1m4 su 4 file sono stati trovati.\u001b[0m\n"
     ]
    }
   ],
   "source": [
    "# Check dei file Quotazioni_*.xlsx su una finestra di 4 anni rispetto alla stagione corrente\n",
    "logger.info(\"Controllo dei file Quotazioni...\")\n",
    "check_files(os.path.join(RAW_DIR,\"quotazioni\"), \"Quotazioni_Fantacalcio_Stagione_\", 2022, 2026)"
   ]
  },
  {
   "cell_type": "code",
   "execution_count": 9,
   "id": "a3a48a99",
   "metadata": {},
   "outputs": [
    {
     "name": "stderr",
     "output_type": "stream",
     "text": [
      "\u001b[32m2025-08-29 21:16:50.766\u001b[0m | \u001b[1mINFO    \u001b[0m | \u001b[36m__main__\u001b[0m:\u001b[36m<module>\u001b[0m:\u001b[36m2\u001b[0m - \u001b[1mControllo dei file Statistiche...\u001b[0m\n",
      "\u001b[32m2025-08-29 21:16:50.767\u001b[0m | \u001b[32m\u001b[1mSUCCESS \u001b[0m | \u001b[36m__main__\u001b[0m:\u001b[36mcheck_files\u001b[0m:\u001b[36m15\u001b[0m - \u001b[32m\u001b[1m4 su 4 file sono stati trovati.\u001b[0m\n"
     ]
    }
   ],
   "source": [
    "# Check dei file Statistiche*.xlsx su una finestra di 4 anni rispetto alla stagione corrente\n",
    "logger.info(\"Controllo dei file Statistiche...\")\n",
    "check_files(os.path.join(RAW_DIR,\"statistiche\"), \"Statistiche_Fantacalcio_Stagione_\", 2022, 2026)"
   ]
  },
  {
   "cell_type": "code",
   "execution_count": null,
   "id": "5935a126",
   "metadata": {},
   "outputs": [],
   "source": []
  }
 ],
 "metadata": {
  "kernelspec": {
   "display_name": "beccalossi",
   "language": "python",
   "name": "python3"
  },
  "language_info": {
   "codemirror_mode": {
    "name": "ipython",
    "version": 3
   },
   "file_extension": ".py",
   "mimetype": "text/x-python",
   "name": "python",
   "nbconvert_exporter": "python",
   "pygments_lexer": "ipython3",
   "version": "3.10.12"
  }
 },
 "nbformat": 4,
 "nbformat_minor": 5
}
